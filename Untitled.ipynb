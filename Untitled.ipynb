{
 "cells": [
  {
   "cell_type": "code",
   "execution_count": 1,
   "metadata": {},
   "outputs": [],
   "source": [
    "# Python SQL toolkit and Object Relational Mapper\n",
    "import sqlalchemy\n",
    "from sqlalchemy.ext.automap import automap_base\n",
    "from sqlalchemy.orm import Session\n",
    "from sqlalchemy import create_engine, func, desc, inspect\n"
   ]
  },
  {
   "cell_type": "code",
   "execution_count": 2,
   "id": "43f0151b",
   "metadata": {},
   "outputs": [],
   "source": [
    "# create engine to hawaii.sqlite\n",
    "engine = create_engine(\"sqlite:///Resources/Weather_data.db\", echo=False)\n",
    "\n",
    "# reflect an existing database into a new model\n",
    "Base = automap_base()\n",
    "# reflect the tables\n",
    "Base.prepare(autoload_with=engine)\n",
    "\n",
    "# Save references to each table\n",
    "WeatherData = Base.classes.WeatherEvents\n",
    "\n",
    "# Create our session (link) from Python to the DB\n",
    "session = Session(engine)\n"
   ]
  },
  {
   "cell_type": "code",
   "execution_count": 4,
   "id": "e69c199a",
   "metadata": {},
   "outputs": [],
   "source": [
    "# Create our session (link) from Python to the DB\n",
    "session = Session(engine)\n",
    "\n",
    "# query for all the station data\n",
    "# results = session.query(WeatherData.EventId, WeatherData.Type, WeatherData.Severity, WeatherData.StartTime, WeatherData.EndTime, WeatherData.Precipitation, WeatherData.TimeZone, WeatherData.AirportCode, WeatherData.LocationLat, WeatherData.LocationLng, WeatherData.City, WeatherData.County, WeatherData.State, WeatherData.ZipCode).all()\n",
    "\n",
    "results = session.query(WeatherData.EventId, WeatherData.Type).filter(WeatherData.StartTime >= 2022-1-1).all()\n",
    "\n",
    "session.close()\n",
    "\n",
    "all_weather = []\n",
    "# for eventid, type, severity, starttime, endtime, precipitation, timezone, airportcode, locationlat, locationlng, city, county, state, zipcode in results:\n",
    "for eventid, type in results:\n",
    "    w_record = {}\n",
    "    w_record[\"eventid\"] = eventid\n",
    "    w_record[\"type\"] = type\n",
    "    # w_record[\"severity\"] = severity\n",
    "    # w_record[\"starttime\"] = starttime\n",
    "    # w_record[\"endtime\"] = endtime\n",
    "    # w_record[\"precipitation\"] = precipitation\n",
    "    # w_record[\"timezone\"] = timezone\n",
    "    # w_record[\"airportcode\"] = airportcode\n",
    "    # w_record[\"lat\"] = locationlat\n",
    "    # w_record[\"lon\"] = locationlng\n",
    "    # w_record[\"city\"] = city\n",
    "    # w_record[\"county\"] = county\n",
    "    # w_record[\"state\"] = state\n",
    "    # w_record[\"zipcode\"] = zipcode\n",
    "\n",
    "    all_weather.append(w_record)\n"
   ]
  }
 ],
 "metadata": {
  "kernelspec": {
   "display_name": "dev",
   "language": "python",
   "name": "python3"
  },
  "language_info": {
   "codemirror_mode": {
    "name": "ipython",
    "version": 3
   },
   "file_extension": ".py",
   "mimetype": "text/x-python",
   "name": "python",
   "nbconvert_exporter": "python",
   "pygments_lexer": "ipython3",
   "version": "3.10.11"
  }
 },
 "nbformat": 4,
 "nbformat_minor": 5
}
